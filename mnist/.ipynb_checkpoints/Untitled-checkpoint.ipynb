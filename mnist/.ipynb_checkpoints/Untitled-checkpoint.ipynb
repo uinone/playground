{
 "cells": [
  {
   "cell_type": "code",
   "execution_count": 1,
   "id": "c19eecef-25f6-4b8b-9ac9-0197fec2bc8a",
   "metadata": {
    "tags": []
   },
   "outputs": [],
   "source": [
    "import tensorflow as tf \n",
    "import tensorflow_datasets as tfds\n",
    "import numpy as np\n",
    "import matplotlib.pyplot as plt\n",
    "import cv2"
   ]
  },
  {
   "cell_type": "code",
   "execution_count": 2,
   "id": "6cdaaf00-3211-45c8-b0c4-b97e83199783",
   "metadata": {
    "tags": []
   },
   "outputs": [],
   "source": [
    "(ds_train, ds_test), ds_info = tfds.load(\n",
    "    'mnist',\n",
    "    split=['train', 'test'],\n",
    "    shuffle_files=True,\n",
    "    as_supervised=True,\n",
    "    with_info=True\n",
    ")"
   ]
  },
  {
   "cell_type": "code",
   "execution_count": 3,
   "id": "c296103a-3e5d-4a91-8d49-4f68902c8af8",
   "metadata": {
    "tags": []
   },
   "outputs": [],
   "source": [
    "def normalize(image, label):\n",
    "    return tf.cast(image, tf.float32) / 255., label"
   ]
  },
  {
   "cell_type": "code",
   "execution_count": 4,
   "id": "38069ab4-e27f-4c6b-a9d7-2b88c128c7ad",
   "metadata": {
    "tags": []
   },
   "outputs": [],
   "source": [
    "ds_train = ds_train.map(\n",
    "    normalize, num_parallel_calls=tf.data.AUTOTUNE\n",
    ")\n",
    "ds_train = ds_train.cache()\n",
    "ds_train = ds_train.shuffle(ds_info.splits[\"train\"].num_examples)\n",
    "ds_train = ds_train.batch(128)\n",
    "ds_train = ds_train.prefetch(tf.data.AUTOTUNE)"
   ]
  },
  {
   "cell_type": "code",
   "execution_count": 5,
   "id": "143026c3-147d-407f-bf97-ea1703fe3929",
   "metadata": {
    "tags": []
   },
   "outputs": [],
   "source": [
    "ds_test = ds_test.map(\n",
    "    normalize, num_parallel_calls=tf.data.AUTOTUNE\n",
    ")\n",
    "ds_test = ds_test.batch(128)\n",
    "ds_test = ds_test.cache()\n",
    "ds_test = ds_test.prefetch(tf.data.AUTOTUNE)"
   ]
  },
  {
   "cell_type": "code",
   "execution_count": 196,
   "id": "fdd833a9-652d-4638-ae0a-eb05660eb9e5",
   "metadata": {
    "tags": []
   },
   "outputs": [
    {
     "name": "stdout",
     "output_type": "stream",
     "text": [
      "Model: \"model_80\"\n",
      "_________________________________________________________________\n",
      " Layer (type)                Output Shape              Param #   \n",
      "=================================================================\n",
      " input_85 (InputLayer)       [(None, 28, 28, 1)]       0         \n",
      "                                                                 \n",
      " conv2d_164 (Conv2D)         (None, 22, 22, 4)         200       \n",
      "                                                                 \n",
      " max_pooling2d_152 (MaxPooli  (None, 11, 11, 4)        0         \n",
      " ng2D)                                                           \n",
      "                                                                 \n",
      " batch_normalization_120 (Ba  (None, 11, 11, 4)        16        \n",
      " tchNormalization)                                               \n",
      "                                                                 \n",
      " conv2d_165 (Conv2D)         (None, 7, 7, 2)           202       \n",
      "                                                                 \n",
      " max_pooling2d_153 (MaxPooli  (None, 3, 3, 2)          0         \n",
      " ng2D)                                                           \n",
      "                                                                 \n",
      " batch_normalization_121 (Ba  (None, 3, 3, 2)          8         \n",
      " tchNormalization)                                               \n",
      "                                                                 \n",
      " conv2d_166 (Conv2D)         (None, 3, 3, 1)           3         \n",
      "                                                                 \n",
      " flatten_80 (Flatten)        (None, 9)                 0         \n",
      "                                                                 \n",
      " dense_130 (Dense)           (None, 10)                100       \n",
      "                                                                 \n",
      "=================================================================\n",
      "Total params: 529\n",
      "Trainable params: 517\n",
      "Non-trainable params: 12\n",
      "_________________________________________________________________\n"
     ]
    }
   ],
   "source": [
    "inp = tf.keras.layers.Input((28, 28, 1))\n",
    "\n",
    "l = tf.keras.layers.Conv2D(4, 7, 1, activation=\"relu\")(inp)\n",
    "l = tf.keras.layers.MaxPool2D()(l)\n",
    "l = tf.keras.layers.BatchNormalization()(l)\n",
    "\n",
    "l = tf.keras.layers.Conv2D(2, 5, 1, activation=\"relu\")(l)\n",
    "l = tf.keras.layers.MaxPool2D()(l)\n",
    "l = tf.keras.layers.BatchNormalization()(l)\n",
    "\n",
    "l = tf.keras.layers.Conv2D(1, 1, 1, activation=\"relu\")(l)\n",
    "\n",
    "l = tf.keras.layers.Flatten()(l)\n",
    "\n",
    "outp = tf.keras.layers.Dense(10, activation=\"softmax\")(l)\n",
    "\n",
    "model = tf.keras.Model(inputs=inp, outputs=outp)\n",
    "\n",
    "model.summary()"
   ]
  },
  {
   "cell_type": "code",
   "execution_count": 197,
   "id": "bfe7fdc4-4318-468c-9d6f-8e5f6ecc0477",
   "metadata": {
    "tags": []
   },
   "outputs": [],
   "source": [
    "model.compile(\n",
    "    'adam', \n",
    "    'sparse_categorical_crossentropy',\n",
    "    metrics=[\"acc\"]\n",
    ")"
   ]
  },
  {
   "cell_type": "code",
   "execution_count": null,
   "id": "c9997a98-74a4-4409-aea0-31d54ba50383",
   "metadata": {
    "tags": []
   },
   "outputs": [
    {
     "name": "stdout",
     "output_type": "stream",
     "text": [
      "Epoch 1/100\n",
      "469/469 [==============================] - 5s 9ms/step - loss: 1.6388 - acc: 0.4498\n",
      "Epoch 2/100\n",
      "469/469 [==============================] - 4s 9ms/step - loss: 0.7233 - acc: 0.7877\n",
      "Epoch 3/100\n",
      "469/469 [==============================] - 4s 9ms/step - loss: 0.5047 - acc: 0.8496\n",
      "Epoch 4/100\n",
      "469/469 [==============================] - 4s 9ms/step - loss: 0.4206 - acc: 0.8738\n",
      "Epoch 5/100\n",
      "469/469 [==============================] - 4s 9ms/step - loss: 0.3751 - acc: 0.8872\n",
      "Epoch 6/100\n",
      "469/469 [==============================] - 4s 9ms/step - loss: 0.3462 - acc: 0.8958\n",
      "Epoch 7/100\n",
      "469/469 [==============================] - 4s 9ms/step - loss: 0.3263 - acc: 0.9014\n",
      "Epoch 8/100\n",
      "121/469 [======>.......................] - ETA: 3s - loss: 0.3200 - acc: 0.9018"
     ]
    }
   ],
   "source": [
    "model.fit(ds_train, epochs=100)"
   ]
  },
  {
   "cell_type": "code",
   "execution_count": 195,
   "id": "7b894355-8492-4f9a-a758-396ed2e2f88a",
   "metadata": {
    "tags": []
   },
   "outputs": [
    {
     "name": "stdout",
     "output_type": "stream",
     "text": [
      "79/79 [==============================] - 0s 3ms/step - loss: 0.1948 - acc: 0.9402\n"
     ]
    },
    {
     "data": {
      "text/plain": [
       "[0.19479070603847504, 0.9401999711990356]"
      ]
     },
     "execution_count": 195,
     "metadata": {},
     "output_type": "execute_result"
    }
   ],
   "source": [
    "model.evaluate(ds_test)"
   ]
  },
  {
   "cell_type": "code",
   "execution_count": null,
   "id": "75c46968-21d5-4897-8a12-fd91b42bc2e7",
   "metadata": {},
   "outputs": [],
   "source": []
  }
 ],
 "metadata": {
  "kernelspec": {
   "display_name": "Python 3 (ipykernel)",
   "language": "python",
   "name": "python3"
  },
  "language_info": {
   "codemirror_mode": {
    "name": "ipython",
    "version": 3
   },
   "file_extension": ".py",
   "mimetype": "text/x-python",
   "name": "python",
   "nbconvert_exporter": "python",
   "pygments_lexer": "ipython3",
   "version": "3.10.8"
  }
 },
 "nbformat": 4,
 "nbformat_minor": 5
}
