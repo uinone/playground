{
 "cells": [
  {
   "cell_type": "code",
   "execution_count": 1,
   "id": "c19eecef-25f6-4b8b-9ac9-0197fec2bc8a",
   "metadata": {
    "tags": []
   },
   "outputs": [],
   "source": [
    "import tensorflow as tf \n",
    "import tensorflow_datasets as tfds\n",
    "import numpy as np\n",
    "import matplotlib.pyplot as plt\n",
    "import cv2"
   ]
  },
  {
   "cell_type": "code",
   "execution_count": 2,
   "id": "6cdaaf00-3211-45c8-b0c4-b97e83199783",
   "metadata": {
    "tags": []
   },
   "outputs": [],
   "source": [
    "(ds_train, ds_test), ds_info = tfds.load(\n",
    "    'mnist',\n",
    "    split=['train', 'test'],\n",
    "    shuffle_files=True,\n",
    "    as_supervised=True,\n",
    "    with_info=True\n",
    ")"
   ]
  },
  {
   "cell_type": "code",
   "execution_count": 3,
   "id": "c296103a-3e5d-4a91-8d49-4f68902c8af8",
   "metadata": {
    "tags": []
   },
   "outputs": [],
   "source": [
    "def normalize(image, label):\n",
    "    return tf.cast(image, tf.float32) / 255., label"
   ]
  },
  {
   "cell_type": "code",
   "execution_count": 4,
   "id": "38069ab4-e27f-4c6b-a9d7-2b88c128c7ad",
   "metadata": {
    "tags": []
   },
   "outputs": [],
   "source": [
    "ds_train = ds_train.map(\n",
    "    normalize, num_parallel_calls=tf.data.AUTOTUNE\n",
    ")\n",
    "ds_train = ds_train.cache()\n",
    "ds_train = ds_train.shuffle(ds_info.splits[\"train\"].num_examples)\n",
    "ds_train = ds_train.batch(128)\n",
    "ds_train = ds_train.prefetch(tf.data.AUTOTUNE)"
   ]
  },
  {
   "cell_type": "code",
   "execution_count": 5,
   "id": "143026c3-147d-407f-bf97-ea1703fe3929",
   "metadata": {
    "tags": []
   },
   "outputs": [],
   "source": [
    "ds_test = ds_test.map(\n",
    "    normalize, num_parallel_calls=tf.data.AUTOTUNE\n",
    ")\n",
    "ds_test = ds_test.batch(128)\n",
    "ds_test = ds_test.cache()\n",
    "ds_test = ds_test.prefetch(tf.data.AUTOTUNE)"
   ]
  },
  {
   "cell_type": "markdown",
   "id": "d2f5599f-a3b1-4799-b32f-485dc97cc2db",
   "metadata": {
    "jp-MarkdownHeadingCollapsed": true,
    "tags": []
   },
   "source": [
    "# 1"
   ]
  },
  {
   "cell_type": "code",
   "execution_count": 6,
   "id": "fdd833a9-652d-4638-ae0a-eb05660eb9e5",
   "metadata": {
    "tags": []
   },
   "outputs": [
    {
     "name": "stdout",
     "output_type": "stream",
     "text": [
      "Model: \"model\"\n",
      "__________________________________________________________________________________________________\n",
      " Layer (type)                   Output Shape         Param #     Connected to                     \n",
      "==================================================================================================\n",
      " input_1 (InputLayer)           [(None, 28, 28, 1)]  0           []                               \n",
      "                                                                                                  \n",
      " conv2d (Conv2D)                (None, 28, 28, 2)    52          ['input_1[0][0]']                \n",
      "                                                                                                  \n",
      " re_lu (ReLU)                   (None, 28, 28, 2)    0           ['conv2d[0][0]']                 \n",
      "                                                                                                  \n",
      " batch_normalization (BatchNorm  (None, 28, 28, 2)   8           ['re_lu[0][0]']                  \n",
      " alization)                                                                                       \n",
      "                                                                                                  \n",
      " conv2d_1 (Conv2D)              (None, 28, 28, 2)    38          ['batch_normalization[0][0]']    \n",
      "                                                                                                  \n",
      " re_lu_1 (ReLU)                 (None, 28, 28, 2)    0           ['conv2d_1[0][0]']               \n",
      "                                                                                                  \n",
      " batch_normalization_1 (BatchNo  (None, 28, 28, 2)   8           ['re_lu_1[0][0]']                \n",
      " rmalization)                                                                                     \n",
      "                                                                                                  \n",
      " max_pooling2d (MaxPooling2D)   (None, 14, 14, 2)    0           ['batch_normalization[0][0]']    \n",
      "                                                                                                  \n",
      " max_pooling2d_1 (MaxPooling2D)  (None, 14, 14, 2)   0           ['batch_normalization_1[0][0]']  \n",
      "                                                                                                  \n",
      " add (Add)                      (None, 14, 14, 2)    0           ['max_pooling2d[0][0]',          \n",
      "                                                                  'max_pooling2d_1[0][0]']        \n",
      "                                                                                                  \n",
      " conv2d_2 (Conv2D)              (None, 14, 14, 2)    38          ['add[0][0]']                    \n",
      "                                                                                                  \n",
      " re_lu_2 (ReLU)                 (None, 14, 14, 2)    0           ['conv2d_2[0][0]']               \n",
      "                                                                                                  \n",
      " batch_normalization_2 (BatchNo  (None, 14, 14, 2)   8           ['re_lu_2[0][0]']                \n",
      " rmalization)                                                                                     \n",
      "                                                                                                  \n",
      " conv2d_3 (Conv2D)              (None, 14, 14, 2)    38          ['batch_normalization_2[0][0]']  \n",
      "                                                                                                  \n",
      " re_lu_3 (ReLU)                 (None, 14, 14, 2)    0           ['conv2d_3[0][0]']               \n",
      "                                                                                                  \n",
      " batch_normalization_3 (BatchNo  (None, 14, 14, 2)   8           ['re_lu_3[0][0]']                \n",
      " rmalization)                                                                                     \n",
      "                                                                                                  \n",
      " max_pooling2d_3 (MaxPooling2D)  (None, 7, 7, 2)     0           ['batch_normalization_3[0][0]']  \n",
      "                                                                                                  \n",
      " max_pooling2d_2 (MaxPooling2D)  (None, 7, 7, 2)     0           ['batch_normalization_2[0][0]']  \n",
      "                                                                                                  \n",
      " add_1 (Add)                    (None, 7, 7, 2)      0           ['max_pooling2d_3[0][0]',        \n",
      "                                                                  'max_pooling2d_2[0][0]']        \n",
      "                                                                                                  \n",
      " conv2d_4 (Conv2D)              (None, 7, 7, 2)      38          ['add_1[0][0]']                  \n",
      "                                                                                                  \n",
      " re_lu_4 (ReLU)                 (None, 7, 7, 2)      0           ['conv2d_4[0][0]']               \n",
      "                                                                                                  \n",
      " batch_normalization_4 (BatchNo  (None, 7, 7, 2)     8           ['re_lu_4[0][0]']                \n",
      " rmalization)                                                                                     \n",
      "                                                                                                  \n",
      " conv2d_5 (Conv2D)              (None, 7, 7, 2)      38          ['batch_normalization_4[0][0]']  \n",
      "                                                                                                  \n",
      " re_lu_5 (ReLU)                 (None, 7, 7, 2)      0           ['conv2d_5[0][0]']               \n",
      "                                                                                                  \n",
      " batch_normalization_5 (BatchNo  (None, 7, 7, 2)     8           ['re_lu_5[0][0]']                \n",
      " rmalization)                                                                                     \n",
      "                                                                                                  \n",
      " max_pooling2d_5 (MaxPooling2D)  (None, 3, 3, 2)     0           ['batch_normalization_5[0][0]']  \n",
      "                                                                                                  \n",
      " max_pooling2d_4 (MaxPooling2D)  (None, 3, 3, 2)     0           ['batch_normalization_4[0][0]']  \n",
      "                                                                                                  \n",
      " add_2 (Add)                    (None, 3, 3, 2)      0           ['max_pooling2d_5[0][0]',        \n",
      "                                                                  'max_pooling2d_4[0][0]']        \n",
      "                                                                                                  \n",
      " conv2d_6 (Conv2D)              (None, 3, 3, 2)      38          ['add_2[0][0]']                  \n",
      "                                                                                                  \n",
      " re_lu_6 (ReLU)                 (None, 3, 3, 2)      0           ['conv2d_6[0][0]']               \n",
      "                                                                                                  \n",
      " batch_normalization_6 (BatchNo  (None, 3, 3, 2)     8           ['re_lu_6[0][0]']                \n",
      " rmalization)                                                                                     \n",
      "                                                                                                  \n",
      " flatten (Flatten)              (None, 18)           0           ['batch_normalization_6[0][0]']  \n",
      "                                                                                                  \n",
      " dense (Dense)                  (None, 10)           190         ['flatten[0][0]']                \n",
      "                                                                                                  \n",
      "==================================================================================================\n",
      "Total params: 526\n",
      "Trainable params: 498\n",
      "Non-trainable params: 28\n",
      "__________________________________________________________________________________________________\n"
     ]
    }
   ],
   "source": [
    "inp = tf.keras.layers.Input((28, 28, 1))\n",
    "\n",
    "l = tf.keras.layers.Conv2D(2, 5, 1, padding='same')(inp)\n",
    "l = tf.keras.layers.ReLU()(l)\n",
    "l = tf.keras.layers.BatchNormalization()(l)\n",
    "l2 = tf.keras.layers.MaxPool2D()(l)\n",
    "\n",
    "l = tf.keras.layers.Conv2D(2, 3, 1, padding='same')(l)\n",
    "l = tf.keras.layers.ReLU()(l)\n",
    "l = tf.keras.layers.BatchNormalization()(l)\n",
    "l = tf.keras.layers.MaxPool2D()(l)\n",
    "\n",
    "l2 = tf.keras.layers.Add()([l2,l])\n",
    "\n",
    "l = tf.keras.layers.Conv2D(2, 3, 1, padding='same')(l2)\n",
    "l = tf.keras.layers.ReLU()(l)\n",
    "l = tf.keras.layers.BatchNormalization()(l)\n",
    "\n",
    "l2 = tf.keras.layers.MaxPool2D()(l)\n",
    "\n",
    "l = tf.keras.layers.Conv2D(2, 3, 1, padding='same')(l)\n",
    "l = tf.keras.layers.ReLU()(l)\n",
    "l = tf.keras.layers.BatchNormalization()(l)\n",
    "l = tf.keras.layers.MaxPool2D()(l)\n",
    "\n",
    "l = tf.keras.layers.Add()([l, l2])\n",
    "\n",
    "l = tf.keras.layers.Conv2D(2, 3, 1, padding='same')(l)\n",
    "l = tf.keras.layers.ReLU()(l)\n",
    "l = tf.keras.layers.BatchNormalization()(l)\n",
    "\n",
    "l2 = tf.keras.layers.MaxPool2D()(l)\n",
    "\n",
    "l = tf.keras.layers.Conv2D(2, 3, 1, padding='same')(l)\n",
    "l = tf.keras.layers.ReLU()(l)\n",
    "l = tf.keras.layers.BatchNormalization()(l)\n",
    "l = tf.keras.layers.MaxPool2D()(l)\n",
    "\n",
    "l = tf.keras.layers.Add()([l, l2])\n",
    "\n",
    "l = tf.keras.layers.Conv2D(2, 3, 1, padding='same')(l)\n",
    "l = tf.keras.layers.ReLU()(l)\n",
    "l = tf.keras.layers.BatchNormalization()(l)\n",
    "\n",
    "l = tf.keras.layers.Flatten()(l)\n",
    "\n",
    "outp = tf.keras.layers.Dense(10, activation=\"softmax\")(l)\n",
    "\n",
    "model = tf.keras.Model(inputs=inp, outputs=outp)\n",
    "\n",
    "model.summary()"
   ]
  },
  {
   "cell_type": "markdown",
   "id": "d5e82caf-7db7-4030-981c-f91d59a20d35",
   "metadata": {
    "jp-MarkdownHeadingCollapsed": true,
    "tags": []
   },
   "source": [
    "# 2"
   ]
  },
  {
   "cell_type": "code",
   "execution_count": 50,
   "id": "972968d4-f125-4e37-97d3-a03aebb3f234",
   "metadata": {
    "tags": []
   },
   "outputs": [
    {
     "name": "stdout",
     "output_type": "stream",
     "text": [
      "Model: \"model_23\"\n",
      "_________________________________________________________________\n",
      " Layer (type)                Output Shape              Param #   \n",
      "=================================================================\n",
      " input_28 (InputLayer)       [(None, 28, 28, 1)]       0         \n",
      "                                                                 \n",
      " res_block_104 (ResBlock)    (None, 28, 28, 2)         74        \n",
      "                                                                 \n",
      " max_pooling2d_84 (MaxPoolin  (None, 14, 14, 2)        0         \n",
      " g2D)                                                            \n",
      "                                                                 \n",
      " res_block_105 (ResBlock)    (None, 14, 14, 2)         92        \n",
      "                                                                 \n",
      " max_pooling2d_85 (MaxPoolin  (None, 7, 7, 2)          0         \n",
      " g2D)                                                            \n",
      "                                                                 \n",
      " res_block_106 (ResBlock)    (None, 7, 7, 2)           92        \n",
      "                                                                 \n",
      " max_pooling2d_86 (MaxPoolin  (None, 3, 3, 2)          0         \n",
      " g2D)                                                            \n",
      "                                                                 \n",
      " res_block_107 (ResBlock)    (None, 3, 3, 2)           92        \n",
      "                                                                 \n",
      " conv2d_228 (Conv2D)         (None, 3, 3, 10)          30        \n",
      "                                                                 \n",
      " global_average_pooling2d_9   (None, 10)               0         \n",
      " (GlobalAveragePooling2D)                                        \n",
      "                                                                 \n",
      " softmax_2 (Softmax)         (None, 10)                0         \n",
      "                                                                 \n",
      "=================================================================\n",
      "Total params: 380\n",
      "Trainable params: 348\n",
      "Non-trainable params: 32\n",
      "_________________________________________________________________\n"
     ]
    }
   ],
   "source": [
    "class ResBlock(tf.keras.layers.Layer):\n",
    "    def __init__(self, channel, start_kernel_size=5):\n",
    "        super(ResBlock, self).__init__()\n",
    "        self.c1 = tf.keras.layers.Conv2D(channel, start_kernel_size, 1, padding='same', activation=\"relu\")\n",
    "        self.bn1 = tf.keras.layers.BatchNormalization()\n",
    "        \n",
    "        self.c2 = tf.keras.layers.Conv2D(channel, 3, 1, padding='same', activation=\"relu\")\n",
    "        self.bn2 = tf.keras.layers.BatchNormalization()\n",
    "        \n",
    "        self.add = tf.keras.layers.Add()\n",
    "        \n",
    "    def call(self, inp):\n",
    "        l = self.c1(inp)\n",
    "        l2 = self.bn1(l)\n",
    "\n",
    "        l = self.c2(l)\n",
    "        l = self.bn2(l)\n",
    "        \n",
    "        a = self.add([l, l2])\n",
    "        \n",
    "        return a\n",
    "\n",
    "inp = tf.keras.layers.Input((28, 28, 1))\n",
    "\n",
    "l = ResBlock(2,3)(inp)\n",
    "l = tf.keras.layers.MaxPool2D()(l)\n",
    "l = ResBlock(2,3)(l)\n",
    "l = tf.keras.layers.MaxPool2D()(l)\n",
    "l = ResBlock(2,3)(l)\n",
    "l = tf.keras.layers.MaxPool2D()(l)\n",
    "l = ResBlock(2,3)(l)\n",
    "\n",
    "l = tf.keras.layers.Conv2D(10,1,1, padding=\"same\", activation=\"relu\")(l)\n",
    "l = tf.keras.layers.GlobalAveragePooling2D()(l)\n",
    "\n",
    "outp = tf.keras.layers.Softmax()(l)\n",
    "\n",
    "model = tf.keras.Model(inputs=inp, outputs=outp)\n",
    "\n",
    "model.summary()"
   ]
  },
  {
   "cell_type": "markdown",
   "id": "9096cb87-629f-4e82-b10d-720e320b0f54",
   "metadata": {},
   "source": [
    "# 3"
   ]
  },
  {
   "cell_type": "code",
   "execution_count": 75,
   "id": "3a112427-9dc3-42f2-b59e-fef34adb2fbd",
   "metadata": {
    "tags": []
   },
   "outputs": [
    {
     "name": "stdout",
     "output_type": "stream",
     "text": [
      "Model: \"model_23\"\n",
      "_________________________________________________________________\n",
      " Layer (type)                Output Shape              Param #   \n",
      "=================================================================\n",
      " input_27 (InputLayer)       [(None, 28, 28, 1)]       0         \n",
      "                                                                 \n",
      " res_block_96 (ResBlock)     (None, 28, 28, 8)         824       \n",
      "                                                                 \n",
      " max_pooling2d_75 (MaxPoolin  (None, 14, 14, 8)        0         \n",
      " g2D)                                                            \n",
      "                                                                 \n",
      " res_block_97 (ResBlock)     (None, 14, 14, 16)        5600      \n",
      "                                                                 \n",
      " max_pooling2d_76 (MaxPoolin  (None, 7, 7, 16)         0         \n",
      " g2D)                                                            \n",
      "                                                                 \n",
      " res_block_98 (ResBlock)     (None, 7, 7, 4)           744       \n",
      "                                                                 \n",
      " max_pooling2d_77 (MaxPoolin  (None, 3, 3, 4)          0         \n",
      " g2D)                                                            \n",
      "                                                                 \n",
      " flatten_24 (Flatten)        (None, 36)                0         \n",
      "                                                                 \n",
      " dense_23 (Dense)            (None, 10)                370       \n",
      "                                                                 \n",
      "=================================================================\n",
      "Total params: 7,538\n",
      "Trainable params: 7,482\n",
      "Non-trainable params: 56\n",
      "_________________________________________________________________\n"
     ]
    }
   ],
   "source": [
    "class ResBlock(tf.keras.layers.Layer):\n",
    "    def __init__(self, channel, start_kernel_size=5):\n",
    "        super(ResBlock, self).__init__()\n",
    "        self.c1 = tf.keras.layers.Conv2D(channel, start_kernel_size, 1, padding='same')\n",
    "        self.bn1 = tf.keras.layers.BatchNormalization()\n",
    "        self.relu = tf.keras.layers.ReLU()\n",
    "        self.c2 = tf.keras.layers.Conv2D(channel, 3, 1, padding='same', activation=\"relu\")\n",
    "        \n",
    "        self.add = tf.keras.layers.Add()\n",
    "        \n",
    "    def call(self, inp):\n",
    "        l = self.c1(inp)\n",
    "        l = self.bn1(l)\n",
    "        l1 = self.relu(l)\n",
    "\n",
    "        l = self.c2(l1)\n",
    "        \n",
    "        a = self.add([l, l1])\n",
    "        \n",
    "        return a\n",
    "\n",
    "inp = tf.keras.layers.Input((28, 28, 1))\n",
    "\n",
    "l = ResBlock(8,5)(inp)\n",
    "l = tf.keras.layers.MaxPool2D()(l)\n",
    "l = ResBlock(16,5)(l)\n",
    "l = tf.keras.layers.MaxPool2D()(l)\n",
    "l = ResBlock(4,3)(l)\n",
    "l = tf.keras.layers.MaxPool2D()(l)\n",
    "\n",
    "l = tf.keras.layers.Flatten()(l)\n",
    "\n",
    "outp = tf.keras.layers.Dense(10, activation=\"softmax\")(l)\n",
    "\n",
    "model = tf.keras.Model(inputs=inp, outputs=outp)\n",
    "\n",
    "model.summary()"
   ]
  },
  {
   "cell_type": "code",
   "execution_count": 76,
   "id": "bfe7fdc4-4318-468c-9d6f-8e5f6ecc0477",
   "metadata": {
    "tags": []
   },
   "outputs": [],
   "source": [
    "model.compile(\n",
    "    tf.keras.optimizers.Adam(5e-3), \n",
    "    'sparse_categorical_crossentropy',\n",
    "    metrics=[\"acc\"]\n",
    ")"
   ]
  },
  {
   "cell_type": "code",
   "execution_count": 77,
   "id": "c9997a98-74a4-4409-aea0-31d54ba50383",
   "metadata": {
    "tags": []
   },
   "outputs": [
    {
     "name": "stdout",
     "output_type": "stream",
     "text": [
      "Epoch 1/10\n",
      "469/469 [==============================] - 14s 28ms/step - loss: 0.2805 - acc: 0.9180\n",
      "Epoch 2/10\n",
      "469/469 [==============================] - 14s 29ms/step - loss: 0.0643 - acc: 0.9794\n",
      "Epoch 3/10\n",
      "469/469 [==============================] - 13s 29ms/step - loss: 0.0510 - acc: 0.9838\n",
      "Epoch 4/10\n",
      "469/469 [==============================] - 14s 29ms/step - loss: 0.0441 - acc: 0.9865\n",
      "Epoch 5/10\n",
      "469/469 [==============================] - 13s 28ms/step - loss: 0.0364 - acc: 0.9890\n",
      "Epoch 6/10\n",
      "469/469 [==============================] - 13s 28ms/step - loss: 0.0365 - acc: 0.9880\n",
      "Epoch 7/10\n",
      "469/469 [==============================] - 13s 28ms/step - loss: 0.0303 - acc: 0.9904\n",
      "Epoch 8/10\n",
      "469/469 [==============================] - 13s 28ms/step - loss: 0.0284 - acc: 0.9911\n",
      "Epoch 9/10\n",
      "469/469 [==============================] - 13s 28ms/step - loss: 0.0289 - acc: 0.9907\n",
      "Epoch 10/10\n",
      "469/469 [==============================] - 13s 28ms/step - loss: 0.0267 - acc: 0.9911\n"
     ]
    },
    {
     "data": {
      "text/plain": [
       "<keras.callbacks.History at 0x2bf188430>"
      ]
     },
     "execution_count": 77,
     "metadata": {},
     "output_type": "execute_result"
    }
   ],
   "source": [
    "model.fit(ds_train, epochs=10)"
   ]
  },
  {
   "cell_type": "code",
   "execution_count": 68,
   "id": "7b894355-8492-4f9a-a758-396ed2e2f88a",
   "metadata": {
    "tags": []
   },
   "outputs": [
    {
     "name": "stdout",
     "output_type": "stream",
     "text": [
      "79/79 [==============================] - 1s 7ms/step - loss: 0.0610 - acc: 0.9801\n"
     ]
    },
    {
     "data": {
      "text/plain": [
       "[0.061046067625284195, 0.9800999760627747]"
      ]
     },
     "execution_count": 68,
     "metadata": {},
     "output_type": "execute_result"
    }
   ],
   "source": [
    "model.evaluate(ds_test)"
   ]
  },
  {
   "cell_type": "code",
   "execution_count": null,
   "id": "75c46968-21d5-4897-8a12-fd91b42bc2e7",
   "metadata": {},
   "outputs": [],
   "source": []
  }
 ],
 "metadata": {
  "kernelspec": {
   "display_name": "Python 3 (ipykernel)",
   "language": "python",
   "name": "python3"
  },
  "language_info": {
   "codemirror_mode": {
    "name": "ipython",
    "version": 3
   },
   "file_extension": ".py",
   "mimetype": "text/x-python",
   "name": "python",
   "nbconvert_exporter": "python",
   "pygments_lexer": "ipython3",
   "version": "3.10.8"
  }
 },
 "nbformat": 4,
 "nbformat_minor": 5
}
